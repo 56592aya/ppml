{
 "cells": [
  {
   "cell_type": "markdown",
   "metadata": {},
   "source": [
    "# Federated Machine Learning Lab"
   ]
  },
  {
   "cell_type": "markdown",
   "metadata": {},
   "source": [
    "## Compute Federated Mean"
   ]
  },
  {
   "cell_type": "code",
   "execution_count": 2,
   "metadata": {},
   "outputs": [],
   "source": [
    "import numpy as np"
   ]
  },
  {
   "cell_type": "code",
   "execution_count": 20,
   "metadata": {},
   "outputs": [],
   "source": [
    "# generate sample data simulating 3 federated devices\n",
    "np.random.seed(42)\n",
    "data_client_1 = np.random.rand(10)\n",
    "data_client_2 = np.random.rand(10)\n",
    "data_client_3 = np.random.rand(10)"
   ]
  },
  {
   "cell_type": "code",
   "execution_count": 25,
   "metadata": {},
   "outputs": [
    {
     "data": {
      "text/plain": [
       "array([[0.37454012, 0.95071431, 0.73199394, 0.59865848, 0.15601864,\n",
       "        0.15599452, 0.05808361, 0.86617615, 0.60111501, 0.70807258],\n",
       "       [0.02058449, 0.96990985, 0.83244264, 0.21233911, 0.18182497,\n",
       "        0.18340451, 0.30424224, 0.52475643, 0.43194502, 0.29122914],\n",
       "       [0.61185289, 0.13949386, 0.29214465, 0.36636184, 0.45606998,\n",
       "        0.78517596, 0.19967378, 0.51423444, 0.59241457, 0.04645041]])"
      ]
     },
     "execution_count": 25,
     "metadata": {},
     "output_type": "execute_result"
    }
   ],
   "source": [
    "all_client_data=np.array([data_client_1,data_client_2,data_client_3])\n",
    "all_client_data"
   ]
  },
  {
   "cell_type": "code",
   "execution_count": 29,
   "metadata": {},
   "outputs": [
    {
     "data": {
      "text/plain": [
       "0.43859727209743676"
      ]
     },
     "execution_count": 29,
     "metadata": {},
     "output_type": "execute_result"
    }
   ],
   "source": [
    "# compute the mean for all elements (non federated)\n",
    "\n",
    "# flatten\n",
    "all_client_data_flat = all_client_data.copy()\n",
    "all_client_data_flat = all_client_data_flat.reshape(all_client_data.shape[0]*all_client_data.shape[1])\n",
    "all_client_data_flat\n",
    "\n",
    "sum(all_client_data_flat)/len(all_client_data_flat)"
   ]
  },
  {
   "cell_type": "code",
   "execution_count": 22,
   "metadata": {},
   "outputs": [],
   "source": [
    "# implement a function to compute the mean for a federated partition\n",
    "def federated_mean(data):\n",
    "    return data.sum()/len(data)"
   ]
  },
  {
   "cell_type": "code",
   "execution_count": 23,
   "metadata": {},
   "outputs": [
    {
     "data": {
      "text/plain": [
       "0.43859727209743676"
      ]
     },
     "execution_count": 23,
     "metadata": {},
     "output_type": "execute_result"
    }
   ],
   "source": [
    "sum(map(federated_function,all_client_data))/len(all_client_data)"
   ]
  },
  {
   "cell_type": "markdown",
   "metadata": {},
   "source": [
    "## Compute Federated Median"
   ]
  },
  {
   "cell_type": "code",
   "execution_count": 42,
   "metadata": {},
   "outputs": [
    {
     "data": {
      "text/plain": [
       "array([0.37454012, 0.95071431, 0.73199394, 0.59865848, 0.15601864,\n",
       "       0.15599452, 0.05808361, 0.86617615, 0.60111501, 0.70807258,\n",
       "       0.02058449, 0.96990985, 0.83244264, 0.21233911, 0.18182497,\n",
       "       0.18340451, 0.30424224, 0.52475643, 0.43194502, 0.29122914,\n",
       "       0.61185289, 0.13949386, 0.29214465, 0.36636184, 0.45606998,\n",
       "       0.78517596, 0.19967378, 0.51423444, 0.59241457, 0.04645041])"
      ]
     },
     "execution_count": 42,
     "metadata": {},
     "output_type": "execute_result"
    }
   ],
   "source": [
    "# compute the median for all elements (non federated)\n",
    "\n",
    "# flatten\n",
    "all_client_data_flat = all_client_data.copy()\n",
    "all_client_data_flat = all_client_data_flat.reshape(all_client_data.shape[0]*all_client_data.shape[1])\n",
    "all_client_data_flat"
   ]
  },
  {
   "cell_type": "code",
   "execution_count": 43,
   "metadata": {},
   "outputs": [],
   "source": [
    "# implement a function to compute the median for a federated partition\n",
    "def median(data):\n",
    "    data = np.sort(data)\n",
    "    n = len(data)\n",
    "    if n % 2 == 1: # odd size\n",
    "        index = int((n - 1) / 2)\n",
    "        median = data[index]\n",
    "    else: # even size\n",
    "        index_1 = int(n  / 2 - 1)\n",
    "        index_2 = int(n  / 2)\n",
    "        median = (data[index_1] + data[index_2]) / 2\n",
    "    return median"
   ]
  },
  {
   "cell_type": "code",
   "execution_count": 44,
   "metadata": {},
   "outputs": [
    {
     "data": {
      "text/plain": [
       "0.4032425687447391"
      ]
     },
     "execution_count": 44,
     "metadata": {},
     "output_type": "execute_result"
    }
   ],
   "source": [
    "median(all_client_data_flat)"
   ]
  },
  {
   "cell_type": "code",
   "execution_count": 48,
   "metadata": {},
   "outputs": [
    {
     "data": {
      "text/plain": [
       "0.4112159137553638"
      ]
     },
     "execution_count": 48,
     "metadata": {},
     "output_type": "execute_result"
    }
   ],
   "source": [
    "median(list((map(median,all_client_data))))"
   ]
  },
  {
   "cell_type": "code",
   "execution_count": null,
   "metadata": {},
   "outputs": [],
   "source": []
  }
 ],
 "metadata": {
  "accelerator": "GPU",
  "colab": {
   "collapsed_sections": [],
   "last_runtime": {
    "build_target": "",
    "kind": "local"
   },
   "name": "Federated_Learning_for_Image_Classification.ipynb",
   "provenance": [],
   "toc_visible": true
  },
  "kernelspec": {
   "display_name": "Python",
   "language": "python",
   "name": "conda-env-python-py"
  },
  "language_info": {
   "codemirror_mode": {
    "name": "ipython",
    "version": 3
   },
   "file_extension": ".py",
   "mimetype": "text/x-python",
   "name": "python",
   "nbconvert_exporter": "python",
   "pygments_lexer": "ipython3",
   "version": "3.6.10"
  }
 },
 "nbformat": 4,
 "nbformat_minor": 4
}
