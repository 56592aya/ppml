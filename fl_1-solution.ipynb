{
 "cells": [
  {
   "cell_type": "markdown",
   "metadata": {},
   "source": [
    "# Federated Machine Learning Lab"
   ]
  },
  {
   "cell_type": "markdown",
   "metadata": {},
   "source": [
    "## Compute Federated Mean"
   ]
  },
  {
   "cell_type": "code",
   "execution_count": null,
   "metadata": {},
   "outputs": [],
   "source": [
    "import numpy as np"
   ]
  },
  {
   "cell_type": "code",
   "execution_count": null,
   "metadata": {},
   "outputs": [],
   "source": [
    "# generate sample data simulating 3 federated devices\n",
    "np.random.seed(42)\n",
    "data_client_1 = np.random.rand(10)\n",
    "data_client_2 = np.random.rand(10)\n",
    "data_client_3 = np.random.rand(10)"
   ]
  },
  {
   "cell_type": "code",
   "execution_count": null,
   "metadata": {},
   "outputs": [],
   "source": [
    "all_client_data=np.array([data_client_1,data_client_2,data_client_3])\n",
    "all_client_data"
   ]
  },
  {
   "cell_type": "code",
   "execution_count": null,
   "metadata": {},
   "outputs": [],
   "source": [
    "# compute the mean for all elements (non federated)\n",
    "\n",
    "# flatten\n",
    "all_client_data_flat = all_client_data.copy()\n",
    "all_client_data_flat = all_client_data_flat.reshape(all_client_data.shape[0]*all_client_data.shape[1])\n",
    "all_client_data_flat\n",
    "\n",
    "sum(all_client_data_flat)/len(all_client_data_flat)"
   ]
  },
  {
   "cell_type": "code",
   "execution_count": null,
   "metadata": {},
   "outputs": [],
   "source": [
    "# implement a function to compute the mean for a federated partition\n",
    "def federated_mean(data):\n",
    "    return data.sum()/len(data)"
   ]
  },
  {
   "cell_type": "code",
   "execution_count": null,
   "metadata": {},
   "outputs": [],
   "source": [
    "sum(map(federated_function,all_client_data))/len(all_client_data)"
   ]
  },
  {
   "cell_type": "markdown",
   "metadata": {},
   "source": [
    "## Compute Federated Median"
   ]
  },
  {
   "cell_type": "code",
   "execution_count": null,
   "metadata": {},
   "outputs": [],
   "source": [
    "# compute the median for all elements (non federated)\n",
    "\n",
    "# flatten\n",
    "all_client_data_flat = all_client_data.copy()\n",
    "all_client_data_flat = all_client_data_flat.reshape(all_client_data.shape[0]*all_client_data.shape[1])\n",
    "all_client_data_flat"
   ]
  },
  {
   "cell_type": "code",
   "execution_count": null,
   "metadata": {},
   "outputs": [],
   "source": [
    "# implement a function to compute the median for a federated partition\n",
    "def median(data):\n",
    "    data = np.sort(data)\n",
    "    n = len(data)\n",
    "    if n % 2 == 1: # odd size\n",
    "        index = int((n - 1) / 2)\n",
    "        median = data[index]\n",
    "    else: # even size\n",
    "        index_1 = int(n  / 2 - 1)\n",
    "        index_2 = int(n  / 2)\n",
    "        median = (data[index_1] + data[index_2]) / 2\n",
    "    return median"
   ]
  },
  {
   "cell_type": "code",
   "execution_count": null,
   "metadata": {},
   "outputs": [],
   "source": [
    "median(all_client_data_flat)"
   ]
  },
  {
   "cell_type": "code",
   "execution_count": null,
   "metadata": {},
   "outputs": [],
   "source": [
    "median(list((map(median,all_client_data))))"
   ]
  },
  {
   "cell_type": "code",
   "execution_count": null,
   "metadata": {},
   "outputs": [],
   "source": [
    "!pip install  --upgrade tensorflow_federated nest_asyncio"
   ]
  },
  {
   "cell_type": "markdown",
   "metadata": {},
   "source": [
    "# PLEASE RESTART KERNEL NOW AND MAKE SURE YOU ARE ON TENSORFLOW 2.2"
   ]
  },
  {
   "cell_type": "code",
   "execution_count": null,
   "metadata": {},
   "outputs": [],
   "source": [
    "import tensorflow as tf\n",
    "import tensorflow_federated as tff\n",
    "tf.__version__"
   ]
  },
  {
   "cell_type": "code",
   "execution_count": null,
   "metadata": {},
   "outputs": [],
   "source": [
    "import nest_asyncio\n",
    "nest_asyncio.apply()"
   ]
  },
  {
   "cell_type": "code",
   "execution_count": null,
   "metadata": {},
   "outputs": [],
   "source": [
    "@tff.federated_computation(tff.FederatedType(tf.float32, tff.CLIENTS))\n",
    "def compute_federated_mean(data):\n",
    "    return tff.federated_mean(data)\n"
   ]
  },
  {
   "cell_type": "code",
   "execution_count": null,
   "metadata": {},
   "outputs": [],
   "source": [
    "compute_federated_mean(all_client_data_flat.tolist())\n"
   ]
  }
 ],
 "metadata": {
  "accelerator": "GPU",
  "colab": {
   "collapsed_sections": [],
   "last_runtime": {
    "build_target": "",
    "kind": "local"
   },
   "name": "Federated_Learning_for_Image_Classification.ipynb",
   "provenance": [],
   "toc_visible": true
  },
  "kernelspec": {
   "display_name": "Python",
   "language": "python",
   "name": "conda-env-python-py"
  },
  "language_info": {
   "codemirror_mode": {
    "name": "ipython",
    "version": 3
   },
   "file_extension": ".py",
   "mimetype": "text/x-python",
   "name": "python",
   "nbconvert_exporter": "python",
   "pygments_lexer": "ipython3",
   "version": "3.6.10"
  }
 },
 "nbformat": 4,
 "nbformat_minor": 4
}
